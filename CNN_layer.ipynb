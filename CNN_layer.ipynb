{
  "nbformat": 4,
  "nbformat_minor": 0,
  "metadata": {
    "colab": {
      "provenance": [],
      "authorship_tag": "ABX9TyOpPqCYOaIQy90f2RrQuFiz",
      "include_colab_link": true
    },
    "kernelspec": {
      "name": "python3",
      "display_name": "Python 3"
    },
    "language_info": {
      "name": "python"
    }
  },
  "cells": [
    {
      "cell_type": "markdown",
      "metadata": {
        "id": "view-in-github",
        "colab_type": "text"
      },
      "source": [
        "<a href=\"https://colab.research.google.com/github/kjh1696/DeepLearning/blob/main/CNN_layer.ipynb\" target=\"_parent\"><img src=\"https://colab.research.google.com/assets/colab-badge.svg\" alt=\"Open In Colab\"/></a>"
      ]
    },
    {
      "cell_type": "code",
      "execution_count": 1,
      "metadata": {
        "id": "Vh4IHquMRE5K"
      },
      "outputs": [],
      "source": [
        "import torch\n",
        "from torch import nn"
      ]
    },
    {
      "cell_type": "code",
      "source": [
        "layer = nn.Conv2d(in_channels = 1, out_channels = 2, kernel_size = 3)\n",
        "layer(torch.randn(32,1,5,5)).shape"
      ],
      "metadata": {
        "colab": {
          "base_uri": "https://localhost:8080/"
        },
        "id": "afwEEj2wWyf0",
        "outputId": "e8df090c-7070-4b7f-f82a-5cc3346f282b"
      },
      "execution_count": 2,
      "outputs": [
        {
          "output_type": "execute_result",
          "data": {
            "text/plain": [
              "torch.Size([32, 2, 3, 3])"
            ]
          },
          "metadata": {},
          "execution_count": 2
        }
      ]
    },
    {
      "cell_type": "code",
      "source": [
        "layer = nn.Conv2d(3,5,3) # In channel / Out channel / kernnel\n",
        "print(layer(torch.randn(32,3,5,5)).shape)\n",
        "print(layer.weight.shape)"
      ],
      "metadata": {
        "colab": {
          "base_uri": "https://localhost:8080/"
        },
        "id": "IIb3VdiEW5i3",
        "outputId": "14b193e5-bc79-4fb6-afdd-a41a19689233"
      },
      "execution_count": 3,
      "outputs": [
        {
          "output_type": "stream",
          "name": "stdout",
          "text": [
            "torch.Size([32, 5, 3, 3])\n",
            "torch.Size([5, 3, 3, 3])\n"
          ]
        }
      ]
    },
    {
      "cell_type": "code",
      "source": [
        "class CNN(nn.Module):\n",
        "  def __init__(self):\n",
        "    super().__init__()\n",
        "    self.conv1 = nn.Sequential(nn.Conv2d(3,8,3, padding = 1), nn.BatchNorm2d(8), nn.ReLU())\n",
        "    self.Maxpool1 = nn.MaxPool2d(2)\n",
        "    self.conv2 = nn.Sequential(nn.Conv2d(8,16,3, padding = 1), nn.BatchNorm2d(16), nn.ReLU())\n",
        "    self.Maxpool2 = nn.MaxPool2d(2)\n",
        "    self.conv3 = nn.Sequential(nn.Conv2d(16,32,3, padding = 1), nn.BatchNorm2d(32), nn.ReLU())\n",
        "    self.Maxpool3 = nn.MaxPool2d(2)\n",
        "    self.fc = nn.Linear(32*4*4, 10)\n",
        "\n",
        "  def forward(self, x):\n",
        "    x = self.conv1(x)\n",
        "    x = self.Maxpool1(x)\n",
        "    x = self.conv2(x)\n",
        "    x = self.Maxpool2(x)\n",
        "    x = self.conv3(x)\n",
        "    x = self.Maxpool3(x)\n",
        "    x = torch.flatten(x, start_dim = 1)\n",
        "    x = self.fc(x)\n",
        "    return x"
      ],
      "metadata": {
        "id": "_NUR3eHdYX1T"
      },
      "execution_count": 4,
      "outputs": []
    },
    {
      "cell_type": "code",
      "source": [],
      "metadata": {
        "id": "BfV86riJbV3R"
      },
      "execution_count": null,
      "outputs": []
    }
  ]
}