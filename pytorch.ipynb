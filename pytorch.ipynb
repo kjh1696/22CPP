{
  "nbformat": 4,
  "nbformat_minor": 0,
  "metadata": {
    "colab": {
      "provenance": [],
      "authorship_tag": "ABX9TyMAWWxXimjYC35+guegD/YE",
      "include_colab_link": true
    },
    "kernelspec": {
      "name": "python3",
      "display_name": "Python 3"
    },
    "language_info": {
      "name": "python"
    }
  },
  "cells": [
    {
      "cell_type": "markdown",
      "metadata": {
        "id": "view-in-github",
        "colab_type": "text"
      },
      "source": [
        "<a href=\"https://colab.research.google.com/github/kjh1696/22CPP/blob/main/pytorch.ipynb\" target=\"_parent\"><img src=\"https://colab.research.google.com/assets/colab-badge.svg\" alt=\"Open In Colab\"/></a>"
      ]
    },
    {
      "cell_type": "code",
      "execution_count": 1,
      "metadata": {
        "colab": {
          "base_uri": "https://localhost:8080/"
        },
        "id": "RlEuFXaK_KO9",
        "outputId": "2dd34447-6175-45e0-9477-9f8ba3d01121"
      },
      "outputs": [
        {
          "output_type": "stream",
          "name": "stdout",
          "text": [
            "tensor([1, 2, 3, 4])\n",
            "<class 'torch.Tensor'>\n",
            "torch.int64\n",
            "torch.Size([4])\n",
            "torch.float32\n",
            "tensor([1.0000, 2.0000, 3.1000, 4.0000])\n"
          ]
        }
      ],
      "source": [
        "import torch\n",
        "a = torch.tensor([1,2,3,4])\n",
        "print(a)\n",
        "print(type(a))\n",
        "print(a.dtype)\n",
        "print(a.shape)\n",
        "b = torch.tensor([1,2,3.1,4])\n",
        "print(b.dtype) # 하나라도 실수면 자동으로 실수 타입으로 저장\n",
        "print(b)"
      ]
    },
    {
      "cell_type": "markdown",
      "source": [],
      "metadata": {
        "id": "x4_cbvNvDKHO"
      }
    },
    {
      "cell_type": "code",
      "source": [
        "A = torch.tensor([ [1,2,3], [3,4,5]])\n",
        "print(A)\n",
        "print(A.shape)\n",
        "print(A.ndim)\n",
        "print(A.numel())"
      ],
      "metadata": {
        "colab": {
          "base_uri": "https://localhost:8080/"
        },
        "id": "W0HI3FKh_cle",
        "outputId": "9625efb8-6f60-457a-9344-f9a8b953875d"
      },
      "execution_count": null,
      "outputs": [
        {
          "output_type": "stream",
          "name": "stdout",
          "text": [
            "tensor([[1, 2, 3],\n",
            "        [3, 4, 5]])\n",
            "torch.Size([2, 3])\n",
            "2\n",
            "6\n"
          ]
        }
      ]
    },
    {
      "cell_type": "code",
      "source": [
        "print(torch.zeros(5))\n",
        "print(torch.zeros_like(A))\n",
        "print(torch.ones(5))\n",
        "print(torch.zeros(3,3))\n",
        "print(torch.arange(3,10,2))\n",
        "print(torch.arange(0,1,0.1))\n",
        "print(torch.linspace(0,1,10)) # 0 부터 1까지 10개의 간격으로 나눠서 출력하겠다."
      ],
      "metadata": {
        "colab": {
          "base_uri": "https://localhost:8080/"
        },
        "id": "FSRN7y3G_3tp",
        "outputId": "77d0752c-4f09-4a7b-932b-9fff3d0963c0"
      },
      "execution_count": null,
      "outputs": [
        {
          "output_type": "stream",
          "name": "stdout",
          "text": [
            "tensor([0., 0., 0., 0., 0.])\n",
            "tensor([[0, 0, 0],\n",
            "        [0, 0, 0]])\n",
            "tensor([1., 1., 1., 1., 1.])\n",
            "tensor([[0., 0., 0.],\n",
            "        [0., 0., 0.],\n",
            "        [0., 0., 0.]])\n",
            "tensor([3, 5, 7, 9])\n",
            "tensor([0.0000, 0.1000, 0.2000, 0.3000, 0.4000, 0.5000, 0.6000, 0.7000, 0.8000,\n",
            "        0.9000])\n",
            "tensor([0.0000, 0.1111, 0.2222, 0.3333, 0.4444, 0.5556, 0.6667, 0.7778, 0.8889,\n",
            "        1.0000])\n"
          ]
        }
      ]
    },
    {
      "cell_type": "code",
      "source": [
        "A = torch.tensor([ [1,2,3], [1,2,3]])\n",
        "B = torch.tensor([ [4,5,6],[1,1,1]])\n",
        "\n",
        "C = A + B\n",
        "D = A - B\n",
        "\n",
        "print(C)\n",
        "print(D)\n",
        "print()\n",
        "print(A*B) # 곱셈은 성분끼리의 곱 (Hadamard product)\n",
        "print(A/B) # 나누기도 마찬가지\n",
        "print(B**2)"
      ],
      "metadata": {
        "colab": {
          "base_uri": "https://localhost:8080/"
        },
        "id": "uPZDclMwAs6Q",
        "outputId": "fc98e772-0394-4ced-a127-655ea72a7af9"
      },
      "execution_count": null,
      "outputs": [
        {
          "output_type": "stream",
          "name": "stdout",
          "text": [
            "tensor([[5, 7, 9],\n",
            "        [2, 3, 4]])\n",
            "tensor([[-3, -3, -3],\n",
            "        [ 0,  1,  2]])\n",
            "\n",
            "tensor([[ 4, 10, 18],\n",
            "        [ 1,  2,  3]])\n",
            "tensor([[0.2500, 0.4000, 0.5000],\n",
            "        [1.0000, 2.0000, 3.0000]])\n",
            "tensor([[16, 25, 36],\n",
            "        [ 1,  1,  1]])\n"
          ]
        }
      ]
    },
    {
      "cell_type": "code",
      "source": [
        "A = torch.tensor([[1,2],[3,4]])\n",
        "B = torch.tensor(([1,2], [3,4]))\n",
        "\n",
        "print(A@B) # 메트릭스 곱\n",
        "print(A*B) # 행렬의 element 곱"
      ],
      "metadata": {
        "colab": {
          "base_uri": "https://localhost:8080/"
        },
        "id": "kbwhaDw0BLDV",
        "outputId": "7a4961e6-b82e-413c-ea78-cb1c4f65e809"
      },
      "execution_count": null,
      "outputs": [
        {
          "output_type": "stream",
          "name": "stdout",
          "text": [
            "tensor([[ 7, 10],\n",
            "        [15, 22]])\n",
            "tensor([[ 1,  4],\n",
            "        [ 9, 16]])\n"
          ]
        }
      ]
    },
    {
      "cell_type": "code",
      "source": [
        "a = torch.tensor([1,2,3,4,5,6,7,8,9])\n",
        "\n",
        "print(a[0]) # 0번째가 첫번째 element에 해당\n",
        "print(a[1])\n",
        "print(a[-1]) # 제일 마지막에 존재하는 element를 출력\n",
        "print(a[1:4]) # 앞 element는 포함, 뒤 element는 미포함 / 1번째 부터 4미만 번째까지임을 나타냄\n",
        "print(a[7:])\n",
        "print(a[:7])\n",
        "print(a[:])"
      ],
      "metadata": {
        "colab": {
          "base_uri": "https://localhost:8080/"
        },
        "id": "PtVB0trfCTAl",
        "outputId": "13216af1-51bb-411e-c183-b937488820ba"
      },
      "execution_count": null,
      "outputs": [
        {
          "output_type": "stream",
          "name": "stdout",
          "text": [
            "tensor(1)\n",
            "tensor(2)\n",
            "tensor(9)\n",
            "tensor([2, 3, 4])\n",
            "tensor([8, 9])\n",
            "tensor([1, 2, 3, 4, 5, 6, 7])\n",
            "tensor([1, 2, 3, 4, 5, 6, 7, 8, 9])\n"
          ]
        }
      ]
    },
    {
      "cell_type": "code",
      "source": [
        "A = torch.tensor([[1,2,3],[4,5,6],[7,8,9]]) # 리스트 안에 존재하는 리스트를 생각하면 편함\n",
        "print(A[0]) # 행에 대한 인덱싱\n",
        "print(A[-1]) # 마지막 행에 대한 인덱싱\n",
        "print(A[1:]) # 첫번째 행부터 마지막 행까지의 인덱싱\n",
        "print(A[:]) # 모든 행에 대한 인덱싱\n",
        "print(A[0][2]) # 0번째 행에 대해 인덱싱 한 후 2번째 element를 인덱싱\n",
        "print(A[0,2]) # 0번쨰 행, 2번째 열에 대한 element 인덱싱\n",
        "\n",
        "B = ([[1,2,3,4], [5,6,7,8]])\n",
        "print(B)\n",
        "print(B[0][2]) # 0번째 행부터 1번째 행까지의 인덱싱\n",
        "# print(B[0,2]) tensor로 정의하면 가능한 표현이지만 list로 정의한 경우 불가능한 표현\n",
        "\n",
        "print(A[1,:])\n",
        "print(A[1,0:3:2]) # 1행에서 0부터 3까지 2간격으로 출력 0과2가 이에 해당\n",
        "print(A[:,2]) # 행은 전부 열은 2열을 의미 / 두번째 열 전부를 출력\n",
        "print(A[:][2]) # 전체를 행으로 나눈 뒤 두번째 행에 해당하는 값을 출력"
      ],
      "metadata": {
        "colab": {
          "base_uri": "https://localhost:8080/"
        },
        "id": "6I7Ol3UGCyut",
        "outputId": "e7799173-315a-4a69-963d-cf43d87ae3a3"
      },
      "execution_count": null,
      "outputs": [
        {
          "output_type": "stream",
          "name": "stdout",
          "text": [
            "tensor([1, 2, 3])\n",
            "tensor([7, 8, 9])\n",
            "tensor([[4, 5, 6],\n",
            "        [7, 8, 9]])\n",
            "tensor([[1, 2, 3],\n",
            "        [4, 5, 6],\n",
            "        [7, 8, 9]])\n",
            "tensor(3)\n",
            "tensor(3)\n",
            "[[1, 2, 3, 4], [5, 6, 7, 8]]\n",
            "3\n",
            "tensor([4, 5, 6])\n",
            "tensor([4, 6])\n",
            "tensor([3, 6, 9])\n",
            "tensor([7, 8, 9])\n"
          ]
        }
      ]
    },
    {
      "cell_type": "markdown",
      "source": [],
      "metadata": {
        "id": "gGRaWgqoDNGC"
      }
    },
    {
      "cell_type": "code",
      "source": [
        "A = torch.tensor([ [ [0,1,2,3], [4,5,6,7], [8,9,10,11] ], [ [12,13,14,15], [16,17,18,19], [20,21,22,23]] ])\n",
        "print(A)\n",
        "print(A.shape) # 대괄호가 하나 늘어나면 왼쪽에 shape 값이 추가된다고 생각하면 됨\n",
        "print(A[0,1,2]) # 0번째 차원에서 1번째 행, 2번째 열에 해당하는 값 출력\n",
        "\n",
        "a = torch.tensor([1,2,3,4])\n",
        "b = torch.tensor([[1,2,3,4]])\n",
        "\n",
        "print(a.shape)\n",
        "print(b.shape) # 4개짜리가 1개 묶음이라는 의미를 갖음"
      ],
      "metadata": {
        "colab": {
          "base_uri": "https://localhost:8080/"
        },
        "id": "dZbD_3ZZHVk2",
        "outputId": "d7790c0f-b090-4d04-ad31-c5d4b10e836f"
      },
      "execution_count": null,
      "outputs": [
        {
          "output_type": "stream",
          "name": "stdout",
          "text": [
            "tensor([[[ 0,  1,  2,  3],\n",
            "         [ 4,  5,  6,  7],\n",
            "         [ 8,  9, 10, 11]],\n",
            "\n",
            "        [[12, 13, 14, 15],\n",
            "         [16, 17, 18, 19],\n",
            "         [20, 21, 22, 23]]])\n",
            "torch.Size([2, 3, 4])\n",
            "tensor(6)\n",
            "torch.Size([4])\n",
            "torch.Size([1, 4])\n"
          ]
        }
      ]
    },
    {
      "cell_type": "code",
      "source": [
        "print(A)\n",
        "A[[0,1,1,0],[0,1,2,1],[3,3,2,1]] # 0,0,3 을 첫번째 element, 1,1,3 을 두번째 element, 1,2,2를 세번째 element, 0,1,1을 네번째 element로 인덱싱해서 채우겠다."
      ],
      "metadata": {
        "colab": {
          "base_uri": "https://localhost:8080/"
        },
        "id": "qyYzYSyNHmJX",
        "outputId": "6a13da6c-a1d2-4bc1-9bbf-2f90ee816ce5"
      },
      "execution_count": null,
      "outputs": [
        {
          "output_type": "stream",
          "name": "stdout",
          "text": [
            "tensor([[[ 0,  1,  2,  3],\n",
            "         [ 4,  5,  6,  7],\n",
            "         [ 8,  9, 10, 11]],\n",
            "\n",
            "        [[12, 13, 14, 15],\n",
            "         [16, 17, 18, 19],\n",
            "         [20, 21, 22, 23]]])\n"
          ]
        },
        {
          "output_type": "execute_result",
          "data": {
            "text/plain": [
              "tensor([ 3, 19, 22,  5])"
            ]
          },
          "metadata": {},
          "execution_count": 17
        }
      ]
    },
    {
      "cell_type": "code",
      "source": [
        "# boolean 인덱싱\n",
        "a = [1,2,3,4,5,3,3]\n",
        "print(a==3)\n",
        "A = torch.tensor([[1,2,3,4],[5,3,7,3]])\n",
        "print(A>3) # boolean 타입으로 얻은 값을 인덱싱 할 수 있다, true에 해당하는 값들을 인덱싱\n",
        "print(A[A>3])"
      ],
      "metadata": {
        "colab": {
          "base_uri": "https://localhost:8080/"
        },
        "id": "ZK8M4BU_JO9b",
        "outputId": "0c8f3725-76da-4df6-9009-1f37c597e943"
      },
      "execution_count": null,
      "outputs": [
        {
          "output_type": "stream",
          "name": "stdout",
          "text": [
            "False\n",
            "tensor([[False, False, False,  True],\n",
            "        [ True, False,  True, False]])\n",
            "tensor([4, 5, 7])\n"
          ]
        }
      ]
    },
    {
      "cell_type": "code",
      "source": [
        "A[A>3] = 100\n",
        "print(A) # 3보다 큰 값들을 100으로 대체"
      ],
      "metadata": {
        "colab": {
          "base_uri": "https://localhost:8080/"
        },
        "id": "XeXxX1MTvFmi",
        "outputId": "77b49009-6041-4c33-b16e-94027d305598"
      },
      "execution_count": null,
      "outputs": [
        {
          "output_type": "stream",
          "name": "stdout",
          "text": [
            "tensor([[  1,   2,   3, 100],\n",
            "        [100,   3, 100,   3]])\n"
          ]
        }
      ]
    },
    {
      "cell_type": "code",
      "source": [
        "# tensor로 인덱싱\n",
        "a = torch.tensor([1,2,3,4,5])\n",
        "A = a[2]\n",
        "print(A)"
      ],
      "metadata": {
        "colab": {
          "base_uri": "https://localhost:8080/"
        },
        "id": "xiZSwLfGvsoM",
        "outputId": "6b0cd60c-5b68-4145-a8da-4c1cd287b7dc"
      },
      "execution_count": null,
      "outputs": [
        {
          "output_type": "stream",
          "name": "stdout",
          "text": [
            "tensor(3)\n"
          ]
        }
      ]
    },
    {
      "cell_type": "code",
      "source": [
        "A = a[torch.tensor(2)]\n",
        "print(A)\n",
        "A = a[torch.tensor([2,3,4])]\n",
        "print(A)\n",
        "A = a[torch.tensor([[2,2,2],[3,3,3]])]\n",
        "print(A)"
      ],
      "metadata": {
        "colab": {
          "base_uri": "https://localhost:8080/"
        },
        "id": "Xe5eMWndM9sG",
        "outputId": "af0859de-8c23-4fb4-f2ac-6634a88cdb26"
      },
      "execution_count": null,
      "outputs": [
        {
          "output_type": "stream",
          "name": "stdout",
          "text": [
            "tensor(3)\n",
            "tensor([3, 4, 5])\n",
            "tensor([[3, 3, 3],\n",
            "        [4, 4, 4]])\n"
          ]
        }
      ]
    },
    {
      "cell_type": "code",
      "source": [],
      "metadata": {
        "id": "XNl_0nqoPYod"
      },
      "execution_count": null,
      "outputs": []
    },
    {
      "cell_type": "code",
      "source": [
        "a = torch.tensor([[1,2,3],[4,5,6]])\n",
        "print(a[torch.tensor(0)])"
      ],
      "metadata": {
        "colab": {
          "base_uri": "https://localhost:8080/"
        },
        "id": "5QubbUc3NGDl",
        "outputId": "f8359797-f5f6-48bd-914b-f51cc40e6ab4"
      },
      "execution_count": null,
      "outputs": [
        {
          "output_type": "stream",
          "name": "stdout",
          "text": [
            "tensor([1, 2, 3])\n"
          ]
        }
      ]
    },
    {
      "cell_type": "code",
      "source": [
        "A = a[torch.tensor([[0,1],[1,1]])] # Classification 할때 3차원 데이터를 넣어줄 때 활용\n",
        "print(A.shape)\n",
        "print(A)"
      ],
      "metadata": {
        "colab": {
          "base_uri": "https://localhost:8080/"
        },
        "id": "FIxal4UvN9Tx",
        "outputId": "73ab4722-6a2c-466e-e06f-c64607b4f01d"
      },
      "execution_count": null,
      "outputs": [
        {
          "output_type": "stream",
          "name": "stdout",
          "text": [
            "torch.Size([2, 3, 3])\n",
            "tensor([[[1, 2, 3],\n",
            "         [4, 5, 6],\n",
            "         [4, 5, 6]],\n",
            "\n",
            "        [[4, 5, 6],\n",
            "         [4, 5, 6],\n",
            "         [4, 5, 6]]])\n"
          ]
        }
      ]
    },
    {
      "cell_type": "code",
      "source": [
        "b = torch.tensor([[255,255,0],[0,255,0],[0,0,255],[255,0,255],[70,80,75],[0,0,4],[60,100,255]]) # 0번째 분류부터 6번째 분류까지 존재\n",
        "import matplotlib.pyplot as plt\n",
        "plt.imshow(b[torch.tensor([[0,1],[2,3]])]) # 2x2 모양의 인덱서 텐서에 색상값을 가져와 채워넣음"
      ],
      "metadata": {
        "colab": {
          "base_uri": "https://localhost:8080/",
          "height": 452
        },
        "id": "5pPvFPHAOTfG",
        "outputId": "17eb8567-4295-48a0-c5cb-d9a262cdfc75"
      },
      "execution_count": null,
      "outputs": [
        {
          "output_type": "execute_result",
          "data": {
            "text/plain": [
              "<matplotlib.image.AxesImage at 0x7f0dff379850>"
            ]
          },
          "metadata": {},
          "execution_count": 16
        },
        {
          "output_type": "display_data",
          "data": {
            "text/plain": [
              "<Figure size 640x480 with 1 Axes>"
            ],
            "image/png": "[encoded data removed]"
          },
          "metadata": {}
        }
      ]
    },
    {
      "cell_type": "code",
      "source": [
        "A = torch.tensor([[1,2,6],[3,4,7],[5,6,2],[7,8,9]])\n",
        "print(A)\n",
        "print(A.shape)"
      ],
      "metadata": {
        "id": "QiZNY9NPSYtm",
        "colab": {
          "base_uri": "https://localhost:8080/"
        },
        "outputId": "f0905d03-94f2-45f1-d71b-691643cbadc8"
      },
      "execution_count": 2,
      "outputs": [
        {
          "output_type": "stream",
          "name": "stdout",
          "text": [
            "tensor([[1, 2, 6],\n",
            "        [3, 4, 7],\n",
            "        [5, 6, 2],\n",
            "        [7, 8, 9]])\n",
            "torch.Size([4, 3])\n"
          ]
        }
      ]
    },
    {
      "cell_type": "code",
      "source": [
        "# 인덱싱을 스칼라 자체를 인덱싱 하는 방법 / 메트릭스의 element를 인덱싱 하는 방법\n",
        "# 1. A[몇 번째 행이냐, 몇 번째 열이냐]\n",
        "print(A[0,1])"
      ],
      "metadata": {
        "colab": {
          "base_uri": "https://localhost:8080/"
        },
        "id": "io_ZmAUI4YhE",
        "outputId": "97863fa5-3c64-4fd2-9034-c9b8b4aeab32"
      },
      "execution_count": 6,
      "outputs": [
        {
          "output_type": "stream",
          "name": "stdout",
          "text": [
            "tensor(2)\n"
          ]
        }
      ]
    },
    {
      "cell_type": "code",
      "source": [
        "# 2-1. A[[몇 번째 행이냐, 몇 번째 행이냐], [몇 번째 열이냐, 몇 번째 열이냐]]\n",
        "print(A[ [0,2,3,1,2],[1,1,0,0,0]])"
      ],
      "metadata": {
        "colab": {
          "base_uri": "https://localhost:8080/"
        },
        "id": "3BkoAVM34feC",
        "outputId": "89d508f3-a079-4081-bfdc-d4dd3af259bd"
      },
      "execution_count": 4,
      "outputs": [
        {
          "output_type": "stream",
          "name": "stdout",
          "text": [
            "tensor([2, 6, 7, 3, 5])\n"
          ]
        }
      ]
    },
    {
      "cell_type": "code",
      "source": [
        "# 2-2. A[ [[몇 번째 행이냐], [몇 번째 행이냐]], [[몇 번째 열이냐], [몇 번째 열이냐]]]  => 결과가 행렬 형태가 되도록 인덱싱\n",
        "print(A[ [[0,2], [3,1]], [[0,2], [1,0]] ])"
      ],
      "metadata": {
        "colab": {
          "base_uri": "https://localhost:8080/"
        },
        "id": "aAsRsmDj4uJC",
        "outputId": "27def92c-2922-49ae-86c1-d051a06a749c"
      },
      "execution_count": 5,
      "outputs": [
        {
          "output_type": "stream",
          "name": "stdout",
          "text": [
            "tensor([[1, 2],\n",
            "        [8, 3]])\n"
          ]
        }
      ]
    },
    {
      "cell_type": "code",
      "source": [
        "# 3. A[ tensor(bool)] => A와 같은 shape을 가지는 tensor형 bool이 어디에 True를 가지고 있냐\n",
        "print(A)\n",
        "print(A[ torch.tensor([[False, True, True], [False, False, False], [False, False, True], [False, True, False]]) ])\n",
        "print(A[A==2]) # 마스킹을 할 수 있음"
      ],
      "metadata": {
        "colab": {
          "base_uri": "https://localhost:8080/"
        },
        "id": "CKdMF4Bm5DnQ",
        "outputId": "220d09b5-f0bb-4855-94fb-01b7513c70d3"
      },
      "execution_count": 9,
      "outputs": [
        {
          "output_type": "stream",
          "name": "stdout",
          "text": [
            "tensor([[1, 2, 6],\n",
            "        [3, 4, 7],\n",
            "        [5, 6, 2],\n",
            "        [7, 8, 9]])\n",
            "tensor([2, 6, 2, 8])\n",
            "tensor([2, 2])\n"
          ]
        }
      ]
    },
    {
      "cell_type": "code",
      "source": [
        "# 4. A[몇번째 값에 True가 있냐, 몇 번째 값에 True가 있냐]\n",
        "print(A[[True, False, False, False], [False, True, True]])"
      ],
      "metadata": {
        "colab": {
          "base_uri": "https://localhost:8080/"
        },
        "id": "nIWBPIEY5hw-",
        "outputId": "67d948bb-a278-4652-86ac-7c17ff765e81"
      },
      "execution_count": 10,
      "outputs": [
        {
          "output_type": "stream",
          "name": "stdout",
          "text": [
            "tensor([2, 6])\n"
          ]
        }
      ]
    },
    {
      "cell_type": "code",
      "source": [
        "print(A[torch.tensor([1,1,2,2,2])]) # 벡터 자체를 가져오기"
      ],
      "metadata": {
        "colab": {
          "base_uri": "https://localhost:8080/"
        },
        "id": "22Ol3Ioy6C95",
        "outputId": "f517b3f1-20c0-40f8-e041-04bbf2134464"
      },
      "execution_count": 11,
      "outputs": [
        {
          "output_type": "stream",
          "name": "stdout",
          "text": [
            "tensor([[3, 4, 7],\n",
            "        [3, 4, 7],\n",
            "        [5, 6, 2],\n",
            "        [5, 6, 2],\n",
            "        [5, 6, 2]])\n"
          ]
        }
      ]
    },
    {
      "cell_type": "code",
      "source": [
        "A = torch.randn(3,3) # Normal의 n (가우시안 표준 정규 분포를 따르는 값)\n",
        "print(A)"
      ],
      "metadata": {
        "colab": {
          "base_uri": "https://localhost:8080/"
        },
        "id": "fr-VR7ft6zDL",
        "outputId": "c9f79c84-bf9a-4f42-bde1-4743636deaa7"
      },
      "execution_count": 13,
      "outputs": [
        {
          "output_type": "stream",
          "name": "stdout",
          "text": [
            "tensor([[ 0.7803,  1.1654, -0.2646],\n",
            "        [ 0.1328, -1.1890,  0.3223],\n",
            "        [-0.2123,  0.0775,  0.4940]])\n"
          ]
        }
      ]
    },
    {
      "cell_type": "code",
      "source": [
        "B = torch.rand(3,3) # uniform (0~1사이의 랜덤 값)\n",
        "print(B)"
      ],
      "metadata": {
        "colab": {
          "base_uri": "https://localhost:8080/"
        },
        "id": "qKMDGv2v7DXL",
        "outputId": "17a650a4-c557-449a-82c4-3dcc9512e9b9"
      },
      "execution_count": 14,
      "outputs": [
        {
          "output_type": "stream",
          "name": "stdout",
          "text": [
            "tensor([[0.1541, 0.2042, 0.9559],\n",
            "        [0.6906, 0.7782, 0.1111],\n",
            "        [0.8814, 0.6627, 0.4355]])\n"
          ]
        }
      ]
    },
    {
      "cell_type": "code",
      "source": [
        "A = torch.randn(3,3)\n",
        "print(A)\n",
        "print(torch.abs(A))\n",
        "print(torch.sqrt(torch.abs(A)))\n",
        "print(torch.exp(A))\n",
        "print(torch.log(torch.abs(A)))\n",
        "print(torch.log(torch.exp(torch.tensor(1)))) # 토치 형의 변수만 함수값으로 들어갈 수 있음\n",
        "print(torch.log10(torch.tensor(10)))\n",
        "print(torch.log2(torch.tensor(2)))\n",
        "print(torch.round(A))\n",
        "print(torch.round(A, decimals=2))\n",
        "print(torch.floor(A))\n",
        "print(torch.ceil(A))"
      ],
      "metadata": {
        "colab": {
          "base_uri": "https://localhost:8080/"
        },
        "id": "BJ0PCOq57J5m",
        "outputId": "7c9d04e5-e4a3-4793-fa04-c51a64648c24"
      },
      "execution_count": 15,
      "outputs": [
        {
          "output_type": "stream",
          "name": "stdout",
          "text": [
            "tensor([[-0.9536,  0.5815, -1.1674],\n",
            "        [-1.7104,  0.8598, -1.7442],\n",
            "        [ 1.7185,  0.9433,  0.3223]])\n",
            "tensor([[0.9536, 0.5815, 1.1674],\n",
            "        [1.7104, 0.8598, 1.7442],\n",
            "        [1.7185, 0.9433, 0.3223]])\n",
            "tensor([[0.9765, 0.7626, 1.0805],\n",
            "        [1.3078, 0.9273, 1.3207],\n",
            "        [1.3109, 0.9713, 0.5677]])\n",
            "tensor([[0.3854, 1.7888, 0.3112],\n",
            "        [0.1808, 2.3628, 0.1748],\n",
            "        [5.5764, 2.5686, 1.3803]])\n",
            "tensor([[-0.0475, -0.5421,  0.1548],\n",
            "        [ 0.5367, -0.1510,  0.5563],\n",
            "        [ 0.5415, -0.0583, -1.1322]])\n",
            "tensor(1.)\n",
            "tensor(1.)\n",
            "tensor(1.)\n",
            "tensor([[-1.,  1., -1.],\n",
            "        [-2.,  1., -2.],\n",
            "        [ 2.,  1.,  0.]])\n",
            "tensor([[-0.9500,  0.5800, -1.1700],\n",
            "        [-1.7100,  0.8600, -1.7400],\n",
            "        [ 1.7200,  0.9400,  0.3200]])\n",
            "tensor([[-1.,  0., -2.],\n",
            "        [-2.,  0., -2.],\n",
            "        [ 1.,  0.,  0.]])\n",
            "tensor([[-0.,  1., -1.],\n",
            "        [-1.,  1., -1.],\n",
            "        [ 2.,  1.,  1.]])\n"
          ]
        }
      ]
    },
    {
      "cell_type": "code",
      "source": [
        "print(torch.sin(torch.tensor(torch.pi/6)))\n",
        "print(torch.cos(torch.tensor(torch.pi/3)))\n",
        "print(torch.tan(torch.tensor(torch.pi/4)))\n",
        "print(torch.tanh(torch.tensor(-10)))\n",
        "\n",
        "type(torch.tensor(1)/6)"
      ],
      "metadata": {
        "colab": {
          "base_uri": "https://localhost:8080/"
        },
        "id": "wRdSEs-Q77Q1",
        "outputId": "69aa3419-0e05-4376-a177-d8848f55a10b"
      },
      "execution_count": 17,
      "outputs": [
        {
          "output_type": "stream",
          "name": "stdout",
          "text": [
            "tensor(0.5000)\n",
            "tensor(0.5000)\n",
            "tensor(1.)\n",
            "tensor(-1.)\n"
          ]
        },
        {
          "output_type": "execute_result",
          "data": {
            "text/plain": [
              "torch.Tensor"
            ]
          },
          "metadata": {},
          "execution_count": 17
        }
      ]
    },
    {
      "cell_type": "code",
      "source": [
        "torch.nan\n",
        "print(torch.log(torch.tensor(-1)))\n",
        "print(torch.isnan(torch.tensor([1,2,torch.nan,3,4])))\n",
        "print(torch.isinf(torch.tensor([1,2,3,4,torch.inf])))"
      ],
      "metadata": {
        "colab": {
          "base_uri": "https://localhost:8080/"
        },
        "id": "ugT2bqzK8Pgm",
        "outputId": "e04b3678-ed9e-4023-f037-d4981e5a9148"
      },
      "execution_count": 18,
      "outputs": [
        {
          "output_type": "stream",
          "name": "stdout",
          "text": [
            "tensor(nan)\n",
            "tensor([False, False,  True, False, False])\n",
            "tensor([False, False, False, False,  True])\n"
          ]
        }
      ]
    },
    {
      "cell_type": "code",
      "source": [
        "A = torch.randn(3,4)\n",
        "print(A)\n",
        "print(torch.max(A))\n",
        "print(torch.max(A,dim=0))\n",
        "print(torch.max(A,dim=1))"
      ],
      "metadata": {
        "colab": {
          "base_uri": "https://localhost:8080/"
        },
        "id": "W4paEI55BWjF",
        "outputId": "e037332f-ba05-40b1-ff6d-d6fe90b1c037"
      },
      "execution_count": 19,
      "outputs": [
        {
          "output_type": "stream",
          "name": "stdout",
          "text": [
            "tensor([[ 1.8966,  1.3556, -1.1311,  0.7951],\n",
            "        [ 1.6796, -0.7884, -1.4997,  0.4154],\n",
            "        [-1.5563,  1.0729, -1.2717, -0.5633]])\n",
            "tensor(1.8966)\n",
            "torch.return_types.max(\n",
            "values=tensor([ 1.8966,  1.3556, -1.1311,  0.7951]),\n",
            "indices=tensor([0, 0, 0, 0]))\n",
            "torch.return_types.max(\n",
            "values=tensor([1.8966, 1.6796, 1.0729]),\n",
            "indices=tensor([0, 0, 1]))\n"
          ]
        }
      ]
    },
    {
      "cell_type": "code",
      "source": [
        "print(torch.max(A,dim=0, keepdim=True))\n",
        "print(torch.max(A,dim=1, keepdim=True))"
      ],
      "metadata": {
        "colab": {
          "base_uri": "https://localhost:8080/"
        },
        "id": "NzbPYQ5sBocI",
        "outputId": "ab9a63f1-648d-401b-d8c0-4b1be3cd6992"
      },
      "execution_count": 20,
      "outputs": [
        {
          "output_type": "stream",
          "name": "stdout",
          "text": [
            "torch.return_types.max(\n",
            "values=tensor([[ 1.8966,  1.3556, -1.1311,  0.7951]]),\n",
            "indices=tensor([[0, 0, 0, 0]]))\n",
            "torch.return_types.max(\n",
            "values=tensor([[1.8966],\n",
            "        [1.6796],\n",
            "        [1.0729]]),\n",
            "indices=tensor([[0],\n",
            "        [0],\n",
            "        [1]]))\n"
          ]
        }
      ]
    },
    {
      "cell_type": "code",
      "source": [
        "print(torch.min(A))\n",
        "print(torch.min(A,dim=0))\n",
        "print(torch.min(A,dim=1))"
      ],
      "metadata": {
        "colab": {
          "base_uri": "https://localhost:8080/"
        },
        "id": "BVU2lMxLDflb",
        "outputId": "2f3b483d-6096-4828-a43b-781df7db0339"
      },
      "execution_count": 21,
      "outputs": [
        {
          "output_type": "stream",
          "name": "stdout",
          "text": [
            "tensor(-1.5563)\n",
            "torch.return_types.min(\n",
            "values=tensor([-1.5563, -0.7884, -1.4997, -0.5633]),\n",
            "indices=tensor([2, 1, 1, 2]))\n",
            "torch.return_types.min(\n",
            "values=tensor([-1.1311, -1.4997, -1.5563]),\n",
            "indices=tensor([2, 2, 0]))\n"
          ]
        }
      ]
    },
    {
      "cell_type": "code",
      "source": [
        "print(torch.argmax(A))\n",
        "print(torch.argmax(A,dim=0)) # 각 열에서 가장 큰 값이 존재하는 인덱스\n",
        "print(torch.argmax(A,dim=1)) # 각 행에서 가장 큰 값이 존재하는 인덱스"
      ],
      "metadata": {
        "colab": {
          "base_uri": "https://localhost:8080/"
        },
        "id": "1rBG8iu8DrdU",
        "outputId": "761992a0-0d36-418e-a687-b123d2bc5899"
      },
      "execution_count": 24,
      "outputs": [
        {
          "output_type": "stream",
          "name": "stdout",
          "text": [
            "tensor(0)\n",
            "tensor([0, 0, 0, 0])\n",
            "tensor([0, 0, 1])\n"
          ]
        }
      ]
    },
    {
      "cell_type": "code",
      "source": [
        "a = torch.randn(6,1)\n",
        "print(a)\n",
        "a_sorted = torch.sort(a, dim=0)\n",
        "print(a_sorted)"
      ],
      "metadata": {
        "colab": {
          "base_uri": "https://localhost:8080/"
        },
        "id": "1GEjieBcDvFe",
        "outputId": "3e4e1c08-f087-418d-fa9f-6f6ee5863da6"
      },
      "execution_count": 26,
      "outputs": [
        {
          "output_type": "stream",
          "name": "stdout",
          "text": [
            "tensor([[ 1.1662],\n",
            "        [-1.6733],\n",
            "        [ 1.0687],\n",
            "        [-1.8617],\n",
            "        [-1.0682],\n",
            "        [-0.1658]])\n",
            "torch.return_types.sort(\n",
            "values=tensor([[-1.8617],\n",
            "        [-1.6733],\n",
            "        [-1.0682],\n",
            "        [-0.1658],\n",
            "        [ 1.0687],\n",
            "        [ 1.1662]]),\n",
            "indices=tensor([[3],\n",
            "        [1],\n",
            "        [4],\n",
            "        [5],\n",
            "        [2],\n",
            "        [0]]))\n"
          ]
        }
      ]
    },
    {
      "cell_type": "code",
      "source": [
        "a = torch.randn(6,1)\n",
        "print(a)\n",
        "print(a.sort(dim=0))\n",
        "print(a.sort(dim=0, descending = True))"
      ],
      "metadata": {
        "colab": {
          "base_uri": "https://localhost:8080/"
        },
        "id": "ooyVyWLVEYhJ",
        "outputId": "66564d0c-b510-49fa-f1e2-bc2b8d129f49"
      },
      "execution_count": 27,
      "outputs": [
        {
          "output_type": "stream",
          "name": "stdout",
          "text": [
            "tensor([[ 1.9169],\n",
            "        [ 0.8729],\n",
            "        [ 0.3931],\n",
            "        [-0.9719],\n",
            "        [-1.3135],\n",
            "        [ 1.3524]])\n",
            "torch.return_types.sort(\n",
            "values=tensor([[-1.3135],\n",
            "        [-0.9719],\n",
            "        [ 0.3931],\n",
            "        [ 0.8729],\n",
            "        [ 1.3524],\n",
            "        [ 1.9169]]),\n",
            "indices=tensor([[4],\n",
            "        [3],\n",
            "        [2],\n",
            "        [1],\n",
            "        [5],\n",
            "        [0]]))\n",
            "torch.return_types.sort(\n",
            "values=tensor([[ 1.9169],\n",
            "        [ 1.3524],\n",
            "        [ 0.8729],\n",
            "        [ 0.3931],\n",
            "        [-0.9719],\n",
            "        [-1.3135]]),\n",
            "indices=tensor([[0],\n",
            "        [5],\n",
            "        [1],\n",
            "        [2],\n",
            "        [3],\n",
            "        [4]]))\n"
          ]
        }
      ]
    },
    {
      "cell_type": "code",
      "source": [
        "print(torch.max(a))\n",
        "print(a.max())\n",
        "print(torch.abs(a))\n",
        "print(a.abs())"
      ],
      "metadata": {
        "colab": {
          "base_uri": "https://localhost:8080/"
        },
        "id": "AEhjEUYgEmJa",
        "outputId": "2f5e2048-bd9e-4806-b89d-39116a206657"
      },
      "execution_count": 29,
      "outputs": [
        {
          "output_type": "stream",
          "name": "stdout",
          "text": [
            "tensor(1.9169)\n",
            "tensor(1.9169)\n",
            "tensor([[1.9169],\n",
            "        [0.8729],\n",
            "        [0.3931],\n",
            "        [0.9719],\n",
            "        [1.3135],\n",
            "        [1.3524]])\n",
            "tensor([[1.9169],\n",
            "        [0.8729],\n",
            "        [0.3931],\n",
            "        [0.9719],\n",
            "        [1.3135],\n",
            "        [1.3524]])\n"
          ]
        }
      ]
    },
    {
      "cell_type": "code",
      "source": [
        "  A = torch.randn(3,4)\n",
        "  print(A)\n",
        "  print(torch.sum(A))\n",
        "  print(torch.sum(A, dim=1))\n",
        "  print(torch.sum(A, dim=1, keepdims = True))\n",
        "  print(torch.mean(A))\n",
        "  print(torch.mean(A, dim=1))\n",
        "  print(torch.mean(A, dim=1, keepdim=True))\n",
        "  print(torch.std(A))"
      ],
      "metadata": {
        "colab": {
          "base_uri": "https://localhost:8080/"
        },
        "id": "vqIf5aLIEtVo",
        "outputId": "f6cb0773-501f-46b4-c65e-4144798868dc"
      },
      "execution_count": 32,
      "outputs": [
        {
          "output_type": "stream",
          "name": "stdout",
          "text": [
            "tensor([[-0.1560, -1.3525, -0.2868, -0.3381],\n",
            "        [-0.4998, -0.9240, -0.5034,  0.8555],\n",
            "        [-0.4167, -0.2736,  0.8487, -0.2753]])\n",
            "tensor(-3.3221)\n",
            "tensor([-2.1335, -1.0717, -0.1169])\n",
            "tensor([[-2.1335],\n",
            "        [-1.0717],\n",
            "        [-0.1169]])\n",
            "tensor(-0.2768)\n",
            "tensor([-0.5334, -0.2679, -0.0292])\n",
            "tensor([[-0.5334],\n",
            "        [-0.2679],\n",
            "        [-0.0292]])\n",
            "tensor(0.6226)\n"
          ]
        }
      ]
    },
    {
      "cell_type": "code",
      "source": [
        "A = torch.randint(1,5, size = (12,))\n",
        "print(A)\n",
        "print(A.shape)\n",
        "\n",
        "B= A.reshape(2,2,3)\n",
        "print(B)\n",
        "print(B.ndim)"
      ],
      "metadata": {
        "colab": {
          "base_uri": "https://localhost:8080/"
        },
        "id": "OqscvU9YFYvV",
        "outputId": "721faab5-a7a6-4eaf-d366-59d774a94c12"
      },
      "execution_count": 34,
      "outputs": [
        {
          "output_type": "stream",
          "name": "stdout",
          "text": [
            "tensor([4, 2, 2, 1, 4, 3, 4, 4, 2, 1, 4, 1])\n",
            "torch.Size([12])\n",
            "tensor([[[4, 2, 2],\n",
            "         [1, 4, 3]],\n",
            "\n",
            "        [[4, 4, 2],\n",
            "         [1, 4, 1]]])\n",
            "3\n"
          ]
        }
      ]
    },
    {
      "cell_type": "code",
      "source": [
        "A = torch.arange(20,)\n",
        "print(A)\n",
        "print(A.reshape(4,5))\n",
        "print(A.reshape(4,-1).shape)\n",
        "\n",
        "print(A.reshape(2,5,-1).shape)\n",
        "print(A.reshape(2,-1,5).shape)\n",
        "\n",
        "print(A.reshape(1,-1))\n",
        "print(A.reshape(-1,1))"
      ],
      "metadata": {
        "colab": {
          "base_uri": "https://localhost:8080/"
        },
        "id": "Be_6F71gF8MT",
        "outputId": "50112953-3842-4908-b46c-ae125075c719"
      },
      "execution_count": 39,
      "outputs": [
        {
          "output_type": "stream",
          "name": "stdout",
          "text": [
            "tensor([ 0,  1,  2,  3,  4,  5,  6,  7,  8,  9, 10, 11, 12, 13, 14, 15, 16, 17,\n",
            "        18, 19])\n",
            "tensor([[ 0,  1,  2,  3,  4],\n",
            "        [ 5,  6,  7,  8,  9],\n",
            "        [10, 11, 12, 13, 14],\n",
            "        [15, 16, 17, 18, 19]])\n",
            "torch.Size([4, 5])\n",
            "torch.Size([2, 5, 2])\n",
            "torch.Size([2, 2, 5])\n",
            "tensor([[ 0,  1,  2,  3,  4,  5,  6,  7,  8,  9, 10, 11, 12, 13, 14, 15, 16, 17,\n",
            "         18, 19]])\n",
            "tensor([[ 0],\n",
            "        [ 1],\n",
            "        [ 2],\n",
            "        [ 3],\n",
            "        [ 4],\n",
            "        [ 5],\n",
            "        [ 6],\n",
            "        [ 7],\n",
            "        [ 8],\n",
            "        [ 9],\n",
            "        [10],\n",
            "        [11],\n",
            "        [12],\n",
            "        [13],\n",
            "        [14],\n",
            "        [15],\n",
            "        [16],\n",
            "        [17],\n",
            "        [18],\n",
            "        [19]])\n"
          ]
        }
      ]
    },
    {
      "cell_type": "code",
      "source": [
        "a = torch.tensor([1,2,3])\n",
        "b = torch.tensor([2,2,1])\n",
        "print(torch.sum(a*b))\n",
        "print(torch.dot(a,b))"
      ],
      "metadata": {
        "colab": {
          "base_uri": "https://localhost:8080/"
        },
        "id": "a0n4-HuMIzyg",
        "outputId": "c01b0307-125b-4ce0-a927-cd842d3eded6"
      },
      "execution_count": 42,
      "outputs": [
        {
          "output_type": "stream",
          "name": "stdout",
          "text": [
            "tensor(9)\n",
            "tensor(9)\n"
          ]
        }
      ]
    },
    {
      "cell_type": "code",
      "source": [
        "a = a.reshape(3,1)\n",
        "b = b.reshape(3,1)\n",
        "\n",
        "print(a.transpose(1,0)@b)\n",
        "print(a.permute(1,0)@b)\n",
        "print(a.T@b)\n",
        "print(a.t()@b)\n",
        "\n",
        "A = torch.randn(4,3,6)\n",
        "print(A)\n",
        "print(A.permute(0,2,1).shape)\n",
        "print(A.permute(0,2,1))\n",
        "print(A.transpose(2,1).shape) # transpose는 둘끼리 자리 바꾸기만 가능"
      ],
      "metadata": {
        "colab": {
          "base_uri": "https://localhost:8080/"
        },
        "id": "hNBWdNg3J3S2",
        "outputId": "8c9dae71-f675-443f-a554-e74f3b9c1341"
      },
      "execution_count": 52,
      "outputs": [
        {
          "output_type": "stream",
          "name": "stdout",
          "text": [
            "tensor([[9]])\n",
            "tensor([[9]])\n",
            "tensor([[9]])\n",
            "tensor([[9]])\n",
            "tensor([[[ 0.1134, -0.8315,  2.1389,  1.1672, -1.4172, -1.0801],\n",
            "         [ 0.8946,  0.1984, -0.4176, -0.1636, -0.5603, -0.6586],\n",
            "         [-1.5258,  0.1902, -0.1958, -0.4538,  0.7010,  1.3546]],\n",
            "\n",
            "        [[-0.8462, -0.1525,  2.4475,  0.0307,  0.0950,  0.8086],\n",
            "         [ 1.0691,  0.8895,  0.2948, -2.6389,  1.7159,  0.8193],\n",
            "         [ 0.5511, -0.2477, -0.6878,  0.9320,  0.0296,  0.0528]],\n",
            "\n",
            "        [[ 0.9233, -0.5885, -1.3132, -0.4147, -0.4991,  0.9963],\n",
            "         [ 0.8444, -2.8410, -2.2705,  1.7918, -0.2624,  1.0071],\n",
            "         [-1.4956,  0.0258,  0.5011, -0.4430, -1.2514,  1.8262]],\n",
            "\n",
            "        [[-1.4153,  0.0404, -0.9164,  0.6241, -0.8049, -0.0297],\n",
            "         [-0.5107,  0.5613, -0.8405, -0.2265,  1.3690,  0.1525],\n",
            "         [ 1.6308, -0.6104, -0.9135,  1.2182, -1.2613, -0.6073]]])\n",
            "torch.Size([4, 6, 3])\n",
            "tensor([[[ 0.1134,  0.8946, -1.5258],\n",
            "         [-0.8315,  0.1984,  0.1902],\n",
            "         [ 2.1389, -0.4176, -0.1958],\n",
            "         [ 1.1672, -0.1636, -0.4538],\n",
            "         [-1.4172, -0.5603,  0.7010],\n",
            "         [-1.0801, -0.6586,  1.3546]],\n",
            "\n",
            "        [[-0.8462,  1.0691,  0.5511],\n",
            "         [-0.1525,  0.8895, -0.2477],\n",
            "         [ 2.4475,  0.2948, -0.6878],\n",
            "         [ 0.0307, -2.6389,  0.9320],\n",
            "         [ 0.0950,  1.7159,  0.0296],\n",
            "         [ 0.8086,  0.8193,  0.0528]],\n",
            "\n",
            "        [[ 0.9233,  0.8444, -1.4956],\n",
            "         [-0.5885, -2.8410,  0.0258],\n",
            "         [-1.3132, -2.2705,  0.5011],\n",
            "         [-0.4147,  1.7918, -0.4430],\n",
            "         [-0.4991, -0.2624, -1.2514],\n",
            "         [ 0.9963,  1.0071,  1.8262]],\n",
            "\n",
            "        [[-1.4153, -0.5107,  1.6308],\n",
            "         [ 0.0404,  0.5613, -0.6104],\n",
            "         [-0.9164, -0.8405, -0.9135],\n",
            "         [ 0.6241, -0.2265,  1.2182],\n",
            "         [-0.8049,  1.3690, -1.2613],\n",
            "         [-0.0297,  0.1525, -0.6073]]])\n",
            "torch.Size([4, 6, 3])\n"
          ]
        }
      ]
    },
    {
      "cell_type": "code",
      "source": [
        "A = torch.ones(3,4)\n",
        "B = torch.zeros(3,4)\n",
        "C = torch.vstack([A,B]) # vstack, hstack은 헷갈림\n",
        "D = torch.hstack([A,B])\n",
        "E = torch.cat([A,B], dim = 0) # 열 방향으로 쌓음\n",
        "F = torch.cat([A,B], dim = 1) # 행 방향으로 쌓음\n",
        "\n",
        "print(A)\n",
        "print(B)\n",
        "print(C)\n",
        "print(D)\n",
        "print(E)\n",
        "print(F)"
      ],
      "metadata": {
        "colab": {
          "base_uri": "https://localhost:8080/"
        },
        "id": "aVxBU_QSKb7_",
        "outputId": "ca79ab59-3047-489e-8ba3-c31d7f479564"
      },
      "execution_count": 54,
      "outputs": [
        {
          "output_type": "stream",
          "name": "stdout",
          "text": [
            "tensor([[1., 1., 1., 1.],\n",
            "        [1., 1., 1., 1.],\n",
            "        [1., 1., 1., 1.]])\n",
            "tensor([[0., 0., 0., 0.],\n",
            "        [0., 0., 0., 0.],\n",
            "        [0., 0., 0., 0.]])\n",
            "tensor([[1., 1., 1., 1.],\n",
            "        [1., 1., 1., 1.],\n",
            "        [1., 1., 1., 1.],\n",
            "        [0., 0., 0., 0.],\n",
            "        [0., 0., 0., 0.],\n",
            "        [0., 0., 0., 0.]])\n",
            "tensor([[1., 1., 1., 1., 0., 0., 0., 0.],\n",
            "        [1., 1., 1., 1., 0., 0., 0., 0.],\n",
            "        [1., 1., 1., 1., 0., 0., 0., 0.]])\n",
            "tensor([[1., 1., 1., 1.],\n",
            "        [1., 1., 1., 1.],\n",
            "        [1., 1., 1., 1.],\n",
            "        [0., 0., 0., 0.],\n",
            "        [0., 0., 0., 0.],\n",
            "        [0., 0., 0., 0.]])\n",
            "tensor([[1., 1., 1., 1., 0., 0., 0., 0.],\n",
            "        [1., 1., 1., 1., 0., 0., 0., 0.],\n",
            "        [1., 1., 1., 1., 0., 0., 0., 0.]])\n"
          ]
        }
      ]
    },
    {
      "cell_type": "code",
      "source": [
        "A = torch.ones(3,4)\n",
        "B = torch.zeros(3,4) # matrix 두개를 쌓고 싶음\n",
        "\n",
        "A = A.unsqueeze(dim=0) # unsqueeze를 통해 1,3,4로 만듦\n",
        "B = B.unsqueeze(dim=0)\n",
        "\n",
        "C = torch.cat([A,B], dim=0) # 1,3,4 짜리 메트릭스 두개를 쌓음 / 2,3,4가 됨\n",
        "print(C)\n",
        "print(C.shape)"
      ],
      "metadata": {
        "colab": {
          "base_uri": "https://localhost:8080/"
        },
        "id": "Xp9hXl78L0SI",
        "outputId": "df972a2c-2df3-4c32-a8ff-3b9e9acb4813"
      },
      "execution_count": 55,
      "outputs": [
        {
          "output_type": "stream",
          "name": "stdout",
          "text": [
            "tensor([[[1., 1., 1., 1.],\n",
            "         [1., 1., 1., 1.],\n",
            "         [1., 1., 1., 1.]],\n",
            "\n",
            "        [[0., 0., 0., 0.],\n",
            "         [0., 0., 0., 0.],\n",
            "         [0., 0., 0., 0.]]])\n",
            "torch.Size([2, 3, 4])\n"
          ]
        }
      ]
    },
    {
      "cell_type": "code",
      "source": [
        "# unsqueeze 없이 메트릭스를 쌓는 방법\n",
        "A = torch.ones(3,4)\n",
        "B = torch.zeros(3,4)\n",
        "C = torch.stack([A,B])\n",
        "print(C)"
      ],
      "metadata": {
        "colab": {
          "base_uri": "https://localhost:8080/"
        },
        "id": "D9d3boS5NocC",
        "outputId": "d6c0e2fc-fd52-4064-fd8c-8d31f1ca81bb"
      },
      "execution_count": 56,
      "outputs": [
        {
          "output_type": "stream",
          "name": "stdout",
          "text": [
            "tensor([[[1., 1., 1., 1.],\n",
            "         [1., 1., 1., 1.],\n",
            "         [1., 1., 1., 1.]],\n",
            "\n",
            "        [[0., 0., 0., 0.],\n",
            "         [0., 0., 0., 0.],\n",
            "         [0., 0., 0., 0.]]])\n"
          ]
        }
      ]
    },
    {
      "cell_type": "code",
      "source": [
        "A = torch.tensor([[1,2],[3,4]])\n",
        "B = A.clone() # 값은 같지만 다른 존재였음 좋겠는 경우\n",
        "B[0,0] = 100\n",
        "\n",
        "print(B)\n",
        "print(A)\n",
        "\n",
        "B = A # 동일한 메모리에 있는 값을 가리키게 됨\n",
        "B[0,0] = 100\n",
        "\n",
        "print(B)\n",
        "print(A)"
      ],
      "metadata": {
        "colab": {
          "base_uri": "https://localhost:8080/"
        },
        "id": "im8yF8EKNwYP",
        "outputId": "ca1aed0a-3ed5-4095-e5fe-171ff0d41a45"
      },
      "execution_count": 60,
      "outputs": [
        {
          "output_type": "stream",
          "name": "stdout",
          "text": [
            "tensor([[100,   2],\n",
            "        [  3,   4]])\n",
            "tensor([[1, 2],\n",
            "        [3, 4]])\n",
            "tensor([[100,   2],\n",
            "        [  3,   4]])\n",
            "tensor([[100,   2],\n",
            "        [  3,   4]])\n"
          ]
        }
      ]
    },
    {
      "cell_type": "code",
      "source": [
        "A = torch.randn(5,7)\n",
        "B = torch.randn(7,10)\n",
        "C = A@B\n",
        "print(C.shape)"
      ],
      "metadata": {
        "colab": {
          "base_uri": "https://localhost:8080/"
        },
        "id": "u3C1LqXxOFld",
        "outputId": "bc1f5893-bf93-4892-962b-823538ebfe37"
      },
      "execution_count": 61,
      "outputs": [
        {
          "output_type": "stream",
          "name": "stdout",
          "text": [
            "torch.Size([5, 10])\n"
          ]
        }
      ]
    },
    {
      "cell_type": "code",
      "source": [
        "A = torch.randn(32,5,7)\n",
        "B = torch.randn(32,7,10)\n",
        "C = A@B\n",
        "print(C.shape)"
      ],
      "metadata": {
        "colab": {
          "base_uri": "https://localhost:8080/"
        },
        "id": "LD4xjUObOmgp",
        "outputId": "190eca4c-2717-4351-8e3d-97964f479a44"
      },
      "execution_count": 62,
      "outputs": [
        {
          "output_type": "stream",
          "name": "stdout",
          "text": [
            "torch.Size([32, 5, 10])\n"
          ]
        }
      ]
    },
    {
      "cell_type": "code",
      "source": [
        "import numpy as np\n",
        "import torch\n",
        "\n",
        "a = np.array([1,2,3])\n",
        "b = torch.tensor([1,2,3])\n",
        "\n",
        "A = torch.tensor(a)\n",
        "B = b.numpy()\n",
        "\n",
        "print(type(A))\n",
        "print(type(B))"
      ],
      "metadata": {
        "colab": {
          "base_uri": "https://localhost:8080/"
        },
        "id": "CQGO8s_oOtkp",
        "outputId": "c8b717df-e2a8-40b3-b1ea-7749f36fdd49"
      },
      "execution_count": 63,
      "outputs": [
        {
          "output_type": "stream",
          "name": "stdout",
          "text": [
            "<class 'torch.Tensor'>\n",
            "<class 'numpy.ndarray'>\n"
          ]
        }
      ]
    },
    {
      "cell_type": "code",
      "source": [],
      "metadata": {
        "id": "Tw49xPCbPgn3"
      },
      "execution_count": null,
      "outputs": []
    }
  ]
}