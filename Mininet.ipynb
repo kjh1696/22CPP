{
  "nbformat": 4,
  "nbformat_minor": 0,
  "metadata": {
    "colab": {
      "provenance": [],
      "authorship_tag": "ABX9TyM1p1YfRbwOOQaIEmDNbi8d",
      "include_colab_link": true
    },
    "kernelspec": {
      "name": "python3",
      "display_name": "Python 3"
    },
    "language_info": {
      "name": "python"
    }
  },
  "cells": [
    {
      "cell_type": "markdown",
      "metadata": {
        "id": "view-in-github",
        "colab_type": "text"
      },
      "source": [
        "<a href=\"https://colab.research.google.com/github/kjh1696/DeepLearning/blob/main/Mininet.ipynb\" target=\"_parent\"><img src=\"https://colab.research.google.com/assets/colab-badge.svg\" alt=\"Open In Colab\"/></a>"
      ]
    },
    {
      "cell_type": "code",
      "execution_count": 1,
      "metadata": {
        "id": "wGzJnYiXOPPg"
      },
      "outputs": [],
      "source": [
        "import torch\n",
        "from torch import nn"
      ]
    },
    {
      "cell_type": "code",
      "source": [
        "x = torch.randn(100,3)\n",
        "layer = nn.Linear(3,5)\n",
        "\n",
        "print(layer(x).shape)\n",
        "print(layer.weight)\n",
        "print(layer.bias)"
      ],
      "metadata": {
        "colab": {
          "base_uri": "https://localhost:8080/"
        },
        "id": "viDdMfd7OTo_",
        "outputId": "f67199a1-7a3e-4fd3-cb98-4fd2dd610d3f"
      },
      "execution_count": 2,
      "outputs": [
        {
          "output_type": "stream",
          "name": "stdout",
          "text": [
            "torch.Size([100, 5])\n",
            "Parameter containing:\n",
            "tensor([[ 0.5024, -0.0013,  0.4260],\n",
            "        [ 0.2895, -0.4503, -0.2050],\n",
            "        [ 0.3773,  0.0653,  0.0514],\n",
            "        [ 0.2288, -0.5687,  0.4852],\n",
            "        [ 0.0516,  0.1794,  0.1564]], requires_grad=True)\n",
            "Parameter containing:\n",
            "tensor([ 0.3770, -0.2038,  0.0150,  0.3963,  0.3379], requires_grad=True)\n"
          ]
        }
      ]
    },
    {
      "cell_type": "code",
      "source": [
        "x = torch.randn(2,5)\n",
        "layer = nn.ReLU()\n",
        "print(x)\n",
        "print(layer(x)) # 음수면 0으로 음수가 아니라면 그대로 출력"
      ],
      "metadata": {
        "colab": {
          "base_uri": "https://localhost:8080/"
        },
        "id": "WfCw8-RhOa3D",
        "outputId": "3b262920-aed9-4986-ce36-3b26e0ea8775"
      },
      "execution_count": 4,
      "outputs": [
        {
          "output_type": "stream",
          "name": "stdout",
          "text": [
            "tensor([[-0.4025, -1.3169, -0.2986,  0.8208, -0.9130],\n",
            "        [-1.0388,  1.0487,  0.2258, -0.5879, -0.4416]])\n",
            "tensor([[0.0000, 0.0000, 0.0000, 0.8208, 0.0000],\n",
            "        [0.0000, 1.0487, 0.2258, 0.0000, 0.0000]])\n"
          ]
        }
      ]
    },
    {
      "cell_type": "code",
      "source": [
        "layer = nn.BatchNorm1d(3)\n",
        "\n",
        "print(layer.weight)\n",
        "print(layer.bias)\n",
        "\n",
        "x = torch.randn(5,3)\n",
        "print(x)\n",
        "print(layer(x))"
      ],
      "metadata": {
        "colab": {
          "base_uri": "https://localhost:8080/"
        },
        "id": "43rDMVGZOjMi",
        "outputId": "b68e231a-f6ae-4deb-b3b7-d9a9baa90282"
      },
      "execution_count": 6,
      "outputs": [
        {
          "output_type": "stream",
          "name": "stdout",
          "text": [
            "Parameter containing:\n",
            "tensor([1., 1., 1.], requires_grad=True)\n",
            "Parameter containing:\n",
            "tensor([0., 0., 0.], requires_grad=True)\n",
            "tensor([[ 0.3482, -0.4196, -0.2207],\n",
            "        [ 0.1231,  0.5379, -1.1356],\n",
            "        [ 0.2627, -1.1078, -0.1815],\n",
            "        [ 0.4913,  1.4941, -0.2671],\n",
            "        [ 0.3904,  1.9861, -0.5429]])\n",
            "tensor([[ 0.2017, -0.7971,  0.6984],\n",
            "        [-1.6103,  0.0345, -1.8690],\n",
            "        [-0.4868, -1.3947,  0.8083],\n",
            "        [ 1.3538,  0.8650,  0.5682],\n",
            "        [ 0.5415,  1.2923, -0.2059]], grad_fn=<NativeBatchNormBackward0>)\n"
          ]
        }
      ]
    },
    {
      "cell_type": "code",
      "source": [
        "x = torch.randn(3,7)\n",
        "drop = nn.Dropout(p = 0.1) # 구현에서 p는 죽일 확률\n",
        "print(x)\n",
        "print(drop(x) * (1-0.3)) # 구현은 반대로 훈련 때 1/살릴 확률을 곱하고 테스트 때는 그대로\n",
        "drop.eval()\n",
        "print(drop(x))"
      ],
      "metadata": {
        "colab": {
          "base_uri": "https://localhost:8080/"
        },
        "id": "g1VKd3UePBF4",
        "outputId": "c4a3ebab-d60e-42ef-b4ca-59becd89ca78"
      },
      "execution_count": 7,
      "outputs": [
        {
          "output_type": "stream",
          "name": "stdout",
          "text": [
            "tensor([[-0.6285,  0.5020,  0.3636, -0.1492,  0.7268,  0.5209,  0.4227],\n",
            "        [ 0.2452,  0.5089,  0.5448,  0.4363,  0.2402,  0.5725,  0.0233],\n",
            "        [-1.1663,  0.3536, -0.9961,  0.4814,  1.1174,  0.3688,  0.1488]])\n",
            "tensor([[-0.4889,  0.3904,  0.2828, -0.1161,  0.5653,  0.4052,  0.3287],\n",
            "        [ 0.1907,  0.3958,  0.4237,  0.3394,  0.1869,  0.4453,  0.0181],\n",
            "        [-0.9071,  0.2751, -0.7747,  0.3744,  0.8691,  0.2868,  0.0000]])\n",
            "tensor([[-0.6285,  0.5020,  0.3636, -0.1492,  0.7268,  0.5209,  0.4227],\n",
            "        [ 0.2452,  0.5089,  0.5448,  0.4363,  0.2402,  0.5725,  0.0233],\n",
            "        [-1.1663,  0.3536, -0.9961,  0.4814,  1.1174,  0.3688,  0.1488]])\n"
          ]
        }
      ]
    },
    {
      "cell_type": "code",
      "source": [],
      "metadata": {
        "id": "cakmK-HjQXM2"
      },
      "execution_count": null,
      "outputs": []
    }
  ]
}